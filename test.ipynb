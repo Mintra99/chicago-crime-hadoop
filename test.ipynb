{
 "cells": [
  {
   "cell_type": "code",
   "execution_count": 14,
   "metadata": {},
   "outputs": [],
   "source": [
    "from mpl_toolkits.mplot3d import Axes3D\n",
    "from sklearn.preprocessing import StandardScaler\n",
    "import matplotlib.pyplot as plt # plotting\n",
    "import numpy as np # linear algebra\n",
    "import os # accessing directory structure\n",
    "import pandas as pd # data processing, CSV file I/O (e.g. pd.read_csv)\n"
   ]
  },
  {
   "cell_type": "code",
   "execution_count": 15,
   "metadata": {},
   "outputs": [],
   "source": [
    "nRowsRead = 500000\n",
    "#nRowsRead = None\n",
    "df1 = pd.read_csv(\"data/Chicago_Crimes_2001_to_2004.csv\", delimiter=',', nrows = nRowsRead)\n",
    "df2 = pd.read_csv(\"data/Chicago_Crimes_2005_to_2007.csv\", delimiter=',', nrows = nRowsRead)\n",
    "df3 = pd.read_csv(\"data/Chicago_Crimes_2008_to_2011.csv\", delimiter=',', nrows = nRowsRead)\n",
    "df4 = pd.read_csv(\"data/Chicago_Crimes_2012_to_2017.csv\", delimiter=',', nrows = nRowsRead)\n",
    "\n",
    "dataframe = []\n",
    "dataframe.append(df1)\n",
    "dataframe.append(df2)\n",
    "dataframe.append(df3)\n",
    "dataframe.append(df4)"
   ]
  },
  {
   "cell_type": "code",
   "execution_count": 16,
   "metadata": {},
   "outputs": [],
   "source": [
    "result = pd.concat(dataframe, ignore_index=True)\n"
   ]
  },
  {
   "cell_type": "code",
   "execution_count": 17,
   "metadata": {},
   "outputs": [
    {
     "data": {
      "text/html": [
       "<div>\n",
       "<style scoped>\n",
       "    .dataframe tbody tr th:only-of-type {\n",
       "        vertical-align: middle;\n",
       "    }\n",
       "\n",
       "    .dataframe tbody tr th {\n",
       "        vertical-align: top;\n",
       "    }\n",
       "\n",
       "    .dataframe thead th {\n",
       "        text-align: right;\n",
       "    }\n",
       "</style>\n",
       "<table border=\"1\" class=\"dataframe\">\n",
       "  <thead>\n",
       "    <tr style=\"text-align: right;\">\n",
       "      <th></th>\n",
       "      <th>Date</th>\n",
       "      <th>Primary Type</th>\n",
       "      <th>Latitude</th>\n",
       "      <th>Longitude</th>\n",
       "      <th>Location</th>\n",
       "    </tr>\n",
       "  </thead>\n",
       "  <tbody>\n",
       "    <tr>\n",
       "      <th>0</th>\n",
       "      <td>01/01/2004 12:01:00 AM</td>\n",
       "      <td>THEFT</td>\n",
       "      <td>NaN</td>\n",
       "      <td>NaN</td>\n",
       "      <td>NaN</td>\n",
       "    </tr>\n",
       "    <tr>\n",
       "      <th>1</th>\n",
       "      <td>03/01/2003 12:00:00 AM</td>\n",
       "      <td>OTHER OFFENSE</td>\n",
       "      <td>41.817229</td>\n",
       "      <td>-87.637328</td>\n",
       "      <td>(41.817229156, -87.637328162)</td>\n",
       "    </tr>\n",
       "    <tr>\n",
       "      <th>2</th>\n",
       "      <td>06/20/2004 11:00:00 AM</td>\n",
       "      <td>OFFENSE INVOLVING CHILDREN</td>\n",
       "      <td>NaN</td>\n",
       "      <td>NaN</td>\n",
       "      <td>NaN</td>\n",
       "    </tr>\n",
       "    <tr>\n",
       "      <th>3</th>\n",
       "      <td>12/30/2004 08:00:00 PM</td>\n",
       "      <td>THEFT</td>\n",
       "      <td>NaN</td>\n",
       "      <td>NaN</td>\n",
       "      <td>NaN</td>\n",
       "    </tr>\n",
       "    <tr>\n",
       "      <th>4</th>\n",
       "      <td>05/01/2003 01:00:00 AM</td>\n",
       "      <td>THEFT</td>\n",
       "      <td>41.691785</td>\n",
       "      <td>-87.635116</td>\n",
       "      <td>(41.691784636, -87.635115968)</td>\n",
       "    </tr>\n",
       "    <tr>\n",
       "      <th>...</th>\n",
       "      <td>...</td>\n",
       "      <td>...</td>\n",
       "      <td>...</td>\n",
       "      <td>...</td>\n",
       "      <td>...</td>\n",
       "    </tr>\n",
       "    <tr>\n",
       "      <th>1999995</th>\n",
       "      <td>04/26/2013 10:25:00 AM</td>\n",
       "      <td>DECEPTIVE PRACTICE</td>\n",
       "      <td>41.722768</td>\n",
       "      <td>-87.624410</td>\n",
       "      <td>(41.722768379, -87.624410361)</td>\n",
       "    </tr>\n",
       "    <tr>\n",
       "      <th>1999996</th>\n",
       "      <td>04/26/2013 12:07:00 PM</td>\n",
       "      <td>NARCOTICS</td>\n",
       "      <td>41.764268</td>\n",
       "      <td>-87.643003</td>\n",
       "      <td>(41.764268496, -87.643003179)</td>\n",
       "    </tr>\n",
       "    <tr>\n",
       "      <th>1999997</th>\n",
       "      <td>04/26/2013 06:15:00 AM</td>\n",
       "      <td>NARCOTICS</td>\n",
       "      <td>41.656764</td>\n",
       "      <td>-87.547139</td>\n",
       "      <td>(41.656764077, -87.547138923)</td>\n",
       "    </tr>\n",
       "    <tr>\n",
       "      <th>1999998</th>\n",
       "      <td>04/26/2013 02:00:00 AM</td>\n",
       "      <td>THEFT</td>\n",
       "      <td>41.890782</td>\n",
       "      <td>-87.719842</td>\n",
       "      <td>(41.890781894, -87.719841858)</td>\n",
       "    </tr>\n",
       "    <tr>\n",
       "      <th>1999999</th>\n",
       "      <td>04/26/2013 05:10:00 AM</td>\n",
       "      <td>THEFT</td>\n",
       "      <td>41.969107</td>\n",
       "      <td>-87.653552</td>\n",
       "      <td>(41.969107389, -87.653552149)</td>\n",
       "    </tr>\n",
       "  </tbody>\n",
       "</table>\n",
       "<p>2000000 rows × 5 columns</p>\n",
       "</div>"
      ],
      "text/plain": [
       "                           Date                Primary Type   Latitude  \\\n",
       "0        01/01/2004 12:01:00 AM                       THEFT        NaN   \n",
       "1        03/01/2003 12:00:00 AM               OTHER OFFENSE  41.817229   \n",
       "2        06/20/2004 11:00:00 AM  OFFENSE INVOLVING CHILDREN        NaN   \n",
       "3        12/30/2004 08:00:00 PM                       THEFT        NaN   \n",
       "4        05/01/2003 01:00:00 AM                       THEFT  41.691785   \n",
       "...                         ...                         ...        ...   \n",
       "1999995  04/26/2013 10:25:00 AM          DECEPTIVE PRACTICE  41.722768   \n",
       "1999996  04/26/2013 12:07:00 PM                   NARCOTICS  41.764268   \n",
       "1999997  04/26/2013 06:15:00 AM                   NARCOTICS  41.656764   \n",
       "1999998  04/26/2013 02:00:00 AM                       THEFT  41.890782   \n",
       "1999999  04/26/2013 05:10:00 AM                       THEFT  41.969107   \n",
       "\n",
       "         Longitude                       Location  \n",
       "0              NaN                            NaN  \n",
       "1       -87.637328  (41.817229156, -87.637328162)  \n",
       "2              NaN                            NaN  \n",
       "3              NaN                            NaN  \n",
       "4       -87.635116  (41.691784636, -87.635115968)  \n",
       "...            ...                            ...  \n",
       "1999995 -87.624410  (41.722768379, -87.624410361)  \n",
       "1999996 -87.643003  (41.764268496, -87.643003179)  \n",
       "1999997 -87.547139  (41.656764077, -87.547138923)  \n",
       "1999998 -87.719842  (41.890781894, -87.719841858)  \n",
       "1999999 -87.653552  (41.969107389, -87.653552149)  \n",
       "\n",
       "[2000000 rows x 5 columns]"
      ]
     },
     "execution_count": 17,
     "metadata": {},
     "output_type": "execute_result"
    }
   ],
   "source": [
    "result = result.drop([result.columns[0],'ID','District','Case Number','IUCR',\n",
    "             'Description','FBI Code','X Coordinate', 'Y Coordinate', 'Ward', 'Updated On', 'Year', 'Beat'\n",
    "             ,'Domestic', 'Location Description', 'Arrest', 'Block','Community Area'], axis = 1)\n",
    "result"
   ]
  },
  {
   "cell_type": "code",
   "execution_count": 18,
   "metadata": {},
   "outputs": [
    {
     "name": "stderr",
     "output_type": "stream",
     "text": [
      "C:\\Users\\minh\\AppData\\Local\\Temp/ipykernel_14008/3517475896.py:3: SettingWithCopyWarning: \n",
      "A value is trying to be set on a copy of a slice from a DataFrame.\n",
      "Try using .loc[row_indexer,col_indexer] = value instead\n",
      "\n",
      "See the caveats in the documentation: https://pandas.pydata.org/pandas-docs/stable/user_guide/indexing.html#returning-a-view-versus-a-copy\n",
      "  result['Date'] = pd.to_datetime(result['Date'], format='%m/%d/%Y %I:%M:%S %p').dt.strftime('%d/%m/%Y %H:%M:%S')\n"
     ]
    },
    {
     "data": {
      "text/html": [
       "<div>\n",
       "<style scoped>\n",
       "    .dataframe tbody tr th:only-of-type {\n",
       "        vertical-align: middle;\n",
       "    }\n",
       "\n",
       "    .dataframe tbody tr th {\n",
       "        vertical-align: top;\n",
       "    }\n",
       "\n",
       "    .dataframe thead th {\n",
       "        text-align: right;\n",
       "    }\n",
       "</style>\n",
       "<table border=\"1\" class=\"dataframe\">\n",
       "  <thead>\n",
       "    <tr style=\"text-align: right;\">\n",
       "      <th></th>\n",
       "      <th>Date</th>\n",
       "      <th>Primary Type</th>\n",
       "      <th>Latitude</th>\n",
       "      <th>Longitude</th>\n",
       "      <th>Location</th>\n",
       "    </tr>\n",
       "  </thead>\n",
       "  <tbody>\n",
       "    <tr>\n",
       "      <th>1</th>\n",
       "      <td>01/03/2003 00:00:00</td>\n",
       "      <td>OTHER OFFENSE</td>\n",
       "      <td>41.817229</td>\n",
       "      <td>-87.637328</td>\n",
       "      <td>(41.817229156, -87.637328162)</td>\n",
       "    </tr>\n",
       "    <tr>\n",
       "      <th>4</th>\n",
       "      <td>01/05/2003 01:00:00</td>\n",
       "      <td>THEFT</td>\n",
       "      <td>41.691785</td>\n",
       "      <td>-87.635116</td>\n",
       "      <td>(41.691784636, -87.635115968)</td>\n",
       "    </tr>\n",
       "    <tr>\n",
       "      <th>6</th>\n",
       "      <td>01/01/2001 11:00:00</td>\n",
       "      <td>CRIM SEXUAL ASSAULT</td>\n",
       "      <td>41.687020</td>\n",
       "      <td>-87.608445</td>\n",
       "      <td>(41.687020002, -87.60844523)</td>\n",
       "    </tr>\n",
       "    <tr>\n",
       "      <th>7</th>\n",
       "      <td>15/03/2003 00:00:00</td>\n",
       "      <td>OTHER OFFENSE</td>\n",
       "      <td>41.729712</td>\n",
       "      <td>-87.653159</td>\n",
       "      <td>(41.729712374, -87.653158513)</td>\n",
       "    </tr>\n",
       "    <tr>\n",
       "      <th>9</th>\n",
       "      <td>01/01/2003 00:00:00</td>\n",
       "      <td>THEFT</td>\n",
       "      <td>41.869772</td>\n",
       "      <td>-87.708180</td>\n",
       "      <td>(41.869772159, -87.708180162)</td>\n",
       "    </tr>\n",
       "    <tr>\n",
       "      <th>...</th>\n",
       "      <td>...</td>\n",
       "      <td>...</td>\n",
       "      <td>...</td>\n",
       "      <td>...</td>\n",
       "      <td>...</td>\n",
       "    </tr>\n",
       "    <tr>\n",
       "      <th>1999995</th>\n",
       "      <td>26/04/2013 10:25:00</td>\n",
       "      <td>DECEPTIVE PRACTICE</td>\n",
       "      <td>41.722768</td>\n",
       "      <td>-87.624410</td>\n",
       "      <td>(41.722768379, -87.624410361)</td>\n",
       "    </tr>\n",
       "    <tr>\n",
       "      <th>1999996</th>\n",
       "      <td>26/04/2013 12:07:00</td>\n",
       "      <td>NARCOTICS</td>\n",
       "      <td>41.764268</td>\n",
       "      <td>-87.643003</td>\n",
       "      <td>(41.764268496, -87.643003179)</td>\n",
       "    </tr>\n",
       "    <tr>\n",
       "      <th>1999997</th>\n",
       "      <td>26/04/2013 06:15:00</td>\n",
       "      <td>NARCOTICS</td>\n",
       "      <td>41.656764</td>\n",
       "      <td>-87.547139</td>\n",
       "      <td>(41.656764077, -87.547138923)</td>\n",
       "    </tr>\n",
       "    <tr>\n",
       "      <th>1999998</th>\n",
       "      <td>26/04/2013 02:00:00</td>\n",
       "      <td>THEFT</td>\n",
       "      <td>41.890782</td>\n",
       "      <td>-87.719842</td>\n",
       "      <td>(41.890781894, -87.719841858)</td>\n",
       "    </tr>\n",
       "    <tr>\n",
       "      <th>1999999</th>\n",
       "      <td>26/04/2013 05:10:00</td>\n",
       "      <td>THEFT</td>\n",
       "      <td>41.969107</td>\n",
       "      <td>-87.653552</td>\n",
       "      <td>(41.969107389, -87.653552149)</td>\n",
       "    </tr>\n",
       "  </tbody>\n",
       "</table>\n",
       "<p>1966159 rows × 5 columns</p>\n",
       "</div>"
      ],
      "text/plain": [
       "                        Date         Primary Type   Latitude  Longitude  \\\n",
       "1        01/03/2003 00:00:00        OTHER OFFENSE  41.817229 -87.637328   \n",
       "4        01/05/2003 01:00:00                THEFT  41.691785 -87.635116   \n",
       "6        01/01/2001 11:00:00  CRIM SEXUAL ASSAULT  41.687020 -87.608445   \n",
       "7        15/03/2003 00:00:00        OTHER OFFENSE  41.729712 -87.653159   \n",
       "9        01/01/2003 00:00:00                THEFT  41.869772 -87.708180   \n",
       "...                      ...                  ...        ...        ...   \n",
       "1999995  26/04/2013 10:25:00   DECEPTIVE PRACTICE  41.722768 -87.624410   \n",
       "1999996  26/04/2013 12:07:00            NARCOTICS  41.764268 -87.643003   \n",
       "1999997  26/04/2013 06:15:00            NARCOTICS  41.656764 -87.547139   \n",
       "1999998  26/04/2013 02:00:00                THEFT  41.890782 -87.719842   \n",
       "1999999  26/04/2013 05:10:00                THEFT  41.969107 -87.653552   \n",
       "\n",
       "                              Location  \n",
       "1        (41.817229156, -87.637328162)  \n",
       "4        (41.691784636, -87.635115968)  \n",
       "6         (41.687020002, -87.60844523)  \n",
       "7        (41.729712374, -87.653158513)  \n",
       "9        (41.869772159, -87.708180162)  \n",
       "...                                ...  \n",
       "1999995  (41.722768379, -87.624410361)  \n",
       "1999996  (41.764268496, -87.643003179)  \n",
       "1999997  (41.656764077, -87.547138923)  \n",
       "1999998  (41.890781894, -87.719841858)  \n",
       "1999999  (41.969107389, -87.653552149)  \n",
       "\n",
       "[1966159 rows x 5 columns]"
      ]
     },
     "execution_count": 18,
     "metadata": {},
     "output_type": "execute_result"
    }
   ],
   "source": [
    "result = result.dropna()\n",
    "from datetime import *\n",
    "result['Date'] = pd.to_datetime(result['Date'], format='%m/%d/%Y %I:%M:%S %p').dt.strftime('%d/%m/%Y %H:%M:%S')\n",
    "result"
   ]
  },
  {
   "cell_type": "code",
   "execution_count": 2,
   "metadata": {},
   "outputs": [
    {
     "ename": "NameError",
     "evalue": "name 'result' is not defined",
     "output_type": "error",
     "traceback": [
      "\u001b[1;31m---------------------------------------------------------------------------\u001b[0m",
      "\u001b[1;31mNameError\u001b[0m                                 Traceback (most recent call last)",
      "\u001b[1;32m~\\AppData\\Local\\Temp/ipykernel_14008/3966012325.py\u001b[0m in \u001b[0;36m<module>\u001b[1;34m\u001b[0m\n\u001b[1;32m----> 1\u001b[1;33m \u001b[0mresult\u001b[0m\u001b[1;33m.\u001b[0m\u001b[0mto_csv\u001b[0m\u001b[1;33m(\u001b[0m\u001b[1;34m'python_preprocess.csv'\u001b[0m\u001b[1;33m)\u001b[0m\u001b[1;33m\u001b[0m\u001b[1;33m\u001b[0m\u001b[0m\n\u001b[0m",
      "\u001b[1;31mNameError\u001b[0m: name 'result' is not defined"
     ]
    }
   ],
   "source": [
    "result.to_csv('spark_preprocess.csv')"
   ]
  },
  {
   "cell_type": "code",
   "execution_count": 7,
   "metadata": {},
   "outputs": [],
   "source": [
    "result.isnull().sum()"
   ]
  },
  {
   "cell_type": "code",
   "execution_count": 8,
   "metadata": {},
   "outputs": [],
   "source": [
    "(result[\"Latitude\"].values.sum())/(len(result[\"Latitude\"]))-2"
   ]
  },
  {
   "cell_type": "code",
   "execution_count": 9,
   "metadata": {},
   "outputs": [],
   "source": [
    "avg = (result[\"Latitude\"].values.sum())/(len(result[\"Latitude\"]))\n",
    "outliers = []\n",
    "counter = 0\n",
    "for row in result[\"Latitude\"]:\n",
    "    counter += 1\n",
    "    if row >= avg-2 and row <= avg+2:\n",
    "        continue\n",
    "    else:\n",
    "        outliers.append(counter)\n"
   ]
  },
  {
   "cell_type": "code",
   "execution_count": 12,
   "metadata": {},
   "outputs": [],
   "source": [
    "avg = (result[\"Latitude\"].values.sum())/(len(result[\"Latitude\"]))\n",
    "final_res = result[(result['Latitude']>=avg-2 ) & (result['Latitude']<=avg+2)]"
   ]
  },
  {
   "cell_type": "code",
   "execution_count": 10,
   "metadata": {},
   "outputs": [],
   "source": [
    "type(final_res[\"Longitude\"].tolist()[0])"
   ]
  },
  {
   "cell_type": "code",
   "execution_count": 11,
   "metadata": {},
   "outputs": [],
   "source": [
    "final_res.to_csv('python_preprocess.csv')"
   ]
  },
  {
   "cell_type": "code",
   "execution_count": 12,
   "metadata": {},
   "outputs": [],
   "source": [
    "rows = result[\"Location\"]\n",
    "\n",
    "allcoord = []\n",
    "X1 = []\n",
    "X2 = []\n",
    "for line in rows[:100000]:\n",
    "    line = ''.join(c for c in line if c not in '()')\n",
    "    coords = line.split(',')\n",
    "    x_coord = float(coords[1])\n",
    "    y_coord = float(coords[0])\n",
    "    X1.append(x_coord)\n",
    "    X2.append(y_coord)\n",
    "    new_coord = [x_coord, y_coord]\n",
    "    allcoord.append(new_coord)\n",
    "\n",
    "plt.scatter(X1,X2)\n",
    "plt.show()"
   ]
  },
  {
   "cell_type": "code",
   "execution_count": 13,
   "metadata": {},
   "outputs": [],
   "source": [
    "rows = final_res[\"Location\"]\n",
    "\n",
    "allcoord = []\n",
    "X1 = []\n",
    "X2 = []\n",
    "for line in rows[:100000]:\n",
    "    line = ''.join(c for c in line if c not in '()')\n",
    "    coords = line.split(',')\n",
    "    x_coord = float(coords[1])\n",
    "    y_coord = float(coords[0])\n",
    "    X1.append(x_coord)\n",
    "    X2.append(y_coord)\n",
    "    new_coord = [x_coord, y_coord]\n",
    "    allcoord.append(new_coord)\n",
    "\n",
    "plt.scatter(X1,X2)\n",
    "plt.show()"
   ]
  },
  {
   "cell_type": "code",
   "execution_count": 14,
   "metadata": {},
   "outputs": [],
   "source": [
    "data_frame = pd.DataFrame(allcoord)\n",
    "data_frame"
   ]
  },
  {
   "cell_type": "code",
   "execution_count": 19,
   "metadata": {},
   "outputs": [
    {
     "data": {
      "image/png": "[encoded data removed]",
      "text/plain": [
       "<Figure size 432x288 with 1 Axes>"
      ]
     },
     "metadata": {
      "needs_background": "light"
     },
     "output_type": "display_data"
    }
   ],
   "source": [
    "Sum_of_squared_distances = []\n",
    "K = range(1,50)\n",
    "for num_clusters in K :\n",
    " kmeans = KMeans(n_clusters=num_clusters)\n",
    " kmeans.fit(data_frame)\n",
    " Sum_of_squared_distances.append(kmeans.inertia_)\n",
    "plt.plot(K,Sum_of_squared_distances,'bx-')\n",
    "plt.xlabel('Values of K') \n",
    "plt.ylabel('Sum of squared distances/Inertia') \n",
    "plt.title('Elbow Method For Optimal k')\n",
    "plt.show()"
   ]
  },
  {
   "cell_type": "code",
   "execution_count": 20,
   "metadata": {},
   "outputs": [],
   "source": [
    "# df.columns"
   ]
  },
  {
   "cell_type": "code",
   "execution_count": 21,
   "metadata": {},
   "outputs": [],
   "source": [
    "# df.describe()"
   ]
  },
  {
   "cell_type": "code",
   "execution_count": 22,
   "metadata": {},
   "outputs": [],
   "source": [
    "# df.isnull().sum()"
   ]
  },
  {
   "cell_type": "code",
   "execution_count": 23,
   "metadata": {},
   "outputs": [],
   "source": [
    "# df = df.drop(['Unnamed: 0', 'Domestic','Beat','District','Case Number','IUCR','Description','Community Area','FBI Code','X Coordinate', 'Y Coordinate', 'Updated On'], axis = 1)\n",
    "# df = df.dropna()"
   ]
  },
  {
   "cell_type": "code",
   "execution_count": 24,
   "metadata": {},
   "outputs": [],
   "source": [
    "# d=df.groupby('Primary Type').sum()[\"Arrest\"]\n",
    "# d"
   ]
  },
  {
   "cell_type": "code",
   "execution_count": 25,
   "metadata": {},
   "outputs": [],
   "source": [
    "# plt.style.use(plt.style.available[9])\n",
    "# plt.figure(figsize=(8,8))\n",
    "# plt.pie(\n",
    "#     df.groupby('Primary Type').sum()[\"Arrest\"],\n",
    "#     labels=df.groupby(\"Primary Type\").sum().index,\n",
    "#     radius=1, \n",
    "#     autopct='%0.1f%%', )\n",
    "#     #explode=[0,0,0,0,0,0,0,0,0,0,0,0,0,0,0,0,0,0,0,0,0,0,0,0,0,0,0,0,0])\n",
    "# plt.title('test', fontdict={'fontsize': 16})\n",
    "# plt.show()"
   ]
  },
  {
   "cell_type": "code",
   "execution_count": 26,
   "metadata": {},
   "outputs": [],
   "source": [
    "# df.loc[df['Year'] == 2002]"
   ]
  }
 ],
 "metadata": {
  "interpreter": {
   "hash": "cd24510e72a5417feea7cb81402ffb6b313add9a2ff74c45dc5472ac7fbe8a4b"
  },
  "kernelspec": {
   "display_name": "Python 3.9.1 64-bit",
   "language": "python",
   "name": "python3"
  },
  "language_info": {
   "codemirror_mode": {
    "name": "ipython",
    "version": 3
   },
   "file_extension": ".py",
   "mimetype": "text/x-python",
   "name": "python",
   "nbconvert_exporter": "python",
   "pygments_lexer": "ipython3",
   "version": "3.8.10"
  },
  "orig_nbformat": 4
 },
 "nbformat": 4,
 "nbformat_minor": 2
}
