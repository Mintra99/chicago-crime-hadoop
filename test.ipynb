{
 "cells": [
  {
   "cell_type": "code",
   "execution_count": 1,
   "metadata": {},
   "outputs": [],
   "source": [
    "from mpl_toolkits.mplot3d import Axes3D\n",
    "from sklearn.preprocessing import StandardScaler\n",
    "import matplotlib.pyplot as plt # plotting\n",
    "import numpy as np # linear algebra\n",
    "import os # accessing directory structure\n",
    "import pandas as pd # data processing, CSV file I/O (e.g. pd.read_csv)\n"
   ]
  },
  {
   "cell_type": "code",
   "execution_count": 2,
   "metadata": {},
   "outputs": [],
   "source": [
    "nRowsRead = 500000\n",
    "#nRowsRead = None\n",
    "df1 = pd.read_csv(\"data/Chicago_Crimes_2001_to_2004.csv\", delimiter=',', nrows = nRowsRead)\n",
    "df2 = pd.read_csv(\"data/Chicago_Crimes_2005_to_2007.csv\", delimiter=',', nrows = nRowsRead)\n",
    "df3 = pd.read_csv(\"data/Chicago_Crimes_2008_to_2011.csv\", delimiter=',', nrows = nRowsRead)\n",
    "df4 = pd.read_csv(\"data/Chicago_Crimes_2012_to_2017.csv\", delimiter=',', nrows = nRowsRead)\n",
    "\n",
    "dataframe = []\n",
    "dataframe.append(df1)\n",
    "dataframe.append(df2)\n",
    "dataframe.append(df3)\n",
    "dataframe.append(df4)"
   ]
  },
  {
   "cell_type": "code",
   "execution_count": 3,
   "metadata": {},
   "outputs": [],
   "source": [
    "result = pd.concat(dataframe, ignore_index=True)\n"
   ]
  },
  {
   "cell_type": "code",
   "execution_count": 4,
<<<<<<< HEAD
=======
   "metadata": {},
   "outputs": [
    {
     "data": {
      "text/plain": [
       "23"
      ]
     },
     "execution_count": 4,
     "metadata": {},
     "output_type": "execute_result"
    }
   ],
   "source": [
    "len(result.columns)"
   ]
  },
  {
   "cell_type": "code",
   "execution_count": 5,
   "metadata": {},
   "outputs": [],
   "source": [
    "result = result.drop([result.columns[0],'ID','District','Case Number','IUCR',\n",
    "             'Description','FBI Code','X Coordinate', 'Y Coordinate', 'Ward', 'Domestic', \n",
    "             'Updated On', 'Location Description', 'Block',\n",
    "             'Arrest', 'Year', 'Community Area', 'Beat'], axis = 1)"
   ]
  },
  {
   "cell_type": "code",
   "execution_count": 6,
>>>>>>> 441da7c8810b3fdb87b8491acd025808b27541d6
   "metadata": {},
   "outputs": [
    {
     "data": {
      "text/html": [
       "<div>\n",
       "<style scoped>\n",
       "    .dataframe tbody tr th:only-of-type {\n",
       "        vertical-align: middle;\n",
       "    }\n",
       "\n",
       "    .dataframe tbody tr th {\n",
       "        vertical-align: top;\n",
       "    }\n",
       "\n",
       "    .dataframe thead th {\n",
       "        text-align: right;\n",
       "    }\n",
       "</style>\n",
       "<table border=\"1\" class=\"dataframe\">\n",
       "  <thead>\n",
       "    <tr style=\"text-align: right;\">\n",
       "      <th></th>\n",
       "      <th>Date</th>\n",
       "      <th>Primary Type</th>\n",
<<<<<<< HEAD
       "      <th>Location Description</th>\n",
       "      <th>Arrest</th>\n",
       "      <th>Domestic</th>\n",
       "      <th>Beat</th>\n",
       "      <th>Community Area</th>\n",
       "      <th>Year</th>\n",
       "      <th>Updated On</th>\n",
       "      <th>Latitude</th>\n",
       "      <th>Longitude</th>\n",
=======
       "      <th>Latitude</th>\n",
       "      <th>Longitude</th>\n",
       "      <th>Location</th>\n",
>>>>>>> 441da7c8810b3fdb87b8491acd025808b27541d6
       "    </tr>\n",
       "  </thead>\n",
       "  <tbody>\n",
       "    <tr>\n",
       "      <th>0</th>\n",
       "      <td>01/01/2004 12:01:00 AM</td>\n",
       "      <td>THEFT</td>\n",
       "      <td>NaN</td>\n",
       "      <td>NaN</td>\n",
       "      <td>NaN</td>\n",
       "      <td>NaN</td>\n",
       "    </tr>\n",
       "    <tr>\n",
       "      <th>1</th>\n",
       "      <td>03/01/2003 12:00:00 AM</td>\n",
       "      <td>OTHER OFFENSE</td>\n",
<<<<<<< HEAD
       "      <td>RESIDENCE</td>\n",
       "      <td>False</td>\n",
       "      <td>True</td>\n",
       "      <td>935</td>\n",
       "      <td>61.0</td>\n",
       "      <td>2003</td>\n",
       "      <td>04/15/2016 08:55:02 AM</td>\n",
       "      <td>41.817229</td>\n",
       "      <td>-87.637328</td>\n",
=======
       "      <td>41.817229</td>\n",
       "      <td>-87.637328</td>\n",
       "      <td>(41.817229156, -87.637328162)</td>\n",
>>>>>>> 441da7c8810b3fdb87b8491acd025808b27541d6
       "    </tr>\n",
       "    <tr>\n",
       "      <th>2</th>\n",
       "      <td>06/20/2004 11:00:00 AM</td>\n",
       "      <td>OFFENSE INVOLVING CHILDREN</td>\n",
       "      <td>NaN</td>\n",
       "      <td>NaN</td>\n",
       "      <td>NaN</td>\n",
       "      <td>NaN</td>\n",
       "    </tr>\n",
       "    <tr>\n",
       "      <th>3</th>\n",
       "      <td>12/30/2004 08:00:00 PM</td>\n",
       "      <td>THEFT</td>\n",
       "      <td>NaN</td>\n",
       "      <td>NaN</td>\n",
       "      <td>NaN</td>\n",
       "      <td>NaN</td>\n",
       "    </tr>\n",
       "    <tr>\n",
       "      <th>4</th>\n",
       "      <td>05/01/2003 01:00:00 AM</td>\n",
       "      <td>THEFT</td>\n",
<<<<<<< HEAD
       "      <td>RESIDENCE</td>\n",
       "      <td>False</td>\n",
       "      <td>False</td>\n",
       "      <td>2233</td>\n",
       "      <td>49.0</td>\n",
       "      <td>2003</td>\n",
       "      <td>04/15/2016 08:55:02 AM</td>\n",
       "      <td>41.691785</td>\n",
       "      <td>-87.635116</td>\n",
       "    </tr>\n",
       "    <tr>\n",
       "      <th>...</th>\n",
       "      <td>...</td>\n",
       "      <td>...</td>\n",
       "      <td>...</td>\n",
       "      <td>...</td>\n",
       "      <td>...</td>\n",
       "      <td>...</td>\n",
       "      <td>...</td>\n",
       "      <td>...</td>\n",
       "      <td>...</td>\n",
       "      <td>...</td>\n",
       "      <td>...</td>\n",
       "      <td>...</td>\n",
       "    </tr>\n",
       "    <tr>\n",
       "      <th>1999995</th>\n",
       "      <td>04/26/2013 10:25:00 AM</td>\n",
       "      <td>0000X W CTA 95TH ST LN</td>\n",
       "      <td>DECEPTIVE PRACTICE</td>\n",
       "      <td>CTA PLATFORM</td>\n",
       "      <td>False</td>\n",
       "      <td>False</td>\n",
       "      <td>634</td>\n",
       "      <td>49.0</td>\n",
       "      <td>2013</td>\n",
       "      <td>02/04/2016 06:33:39 AM</td>\n",
       "      <td>41.722768</td>\n",
       "      <td>-87.624410</td>\n",
       "    </tr>\n",
       "    <tr>\n",
       "      <th>1999996</th>\n",
       "      <td>04/26/2013 12:07:00 PM</td>\n",
       "      <td>071XX S EMERALD AVE</td>\n",
       "      <td>NARCOTICS</td>\n",
       "      <td>ALLEY</td>\n",
       "      <td>True</td>\n",
       "      <td>False</td>\n",
       "      <td>732</td>\n",
       "      <td>68.0</td>\n",
       "      <td>2013</td>\n",
       "      <td>02/04/2016 06:33:39 AM</td>\n",
       "      <td>41.764268</td>\n",
       "      <td>-87.643003</td>\n",
       "    </tr>\n",
       "    <tr>\n",
       "      <th>1999997</th>\n",
       "      <td>04/26/2013 06:15:00 AM</td>\n",
       "      <td>131XX S BALTIMORE AVE</td>\n",
       "      <td>NARCOTICS</td>\n",
       "      <td>RESIDENCE</td>\n",
       "      <td>True</td>\n",
       "      <td>False</td>\n",
       "      <td>433</td>\n",
       "      <td>55.0</td>\n",
       "      <td>2013</td>\n",
       "      <td>02/04/2016 06:33:39 AM</td>\n",
       "      <td>41.656764</td>\n",
       "      <td>-87.547139</td>\n",
       "    </tr>\n",
       "    <tr>\n",
       "      <th>1999998</th>\n",
       "      <td>04/26/2013 02:00:00 AM</td>\n",
       "      <td>005XX N RIDGEWAY AVE</td>\n",
       "      <td>THEFT</td>\n",
       "      <td>STREET</td>\n",
       "      <td>False</td>\n",
       "      <td>False</td>\n",
       "      <td>1122</td>\n",
       "      <td>23.0</td>\n",
       "      <td>2013</td>\n",
       "      <td>02/04/2016 06:33:39 AM</td>\n",
       "      <td>41.890782</td>\n",
       "      <td>-87.719842</td>\n",
       "    </tr>\n",
       "    <tr>\n",
       "      <th>1999999</th>\n",
       "      <td>04/26/2013 05:10:00 AM</td>\n",
       "      <td>009XX W LAWRENCE AVE</td>\n",
       "      <td>THEFT</td>\n",
       "      <td>CHURCH/SYNAGOGUE/PLACE OF WORSHIP</td>\n",
       "      <td>False</td>\n",
       "      <td>False</td>\n",
       "      <td>1914</td>\n",
       "      <td>3.0</td>\n",
       "      <td>2013</td>\n",
       "      <td>02/04/2016 06:33:39 AM</td>\n",
       "      <td>41.969107</td>\n",
       "      <td>-87.653552</td>\n",
       "    </tr>\n",
       "  </tbody>\n",
       "</table>\n",
       "<p>2000000 rows × 12 columns</p>\n",
       "</div>"
      ],
      "text/plain": [
       "                           Date                   Block  \\\n",
       "0        01/01/2004 12:01:00 AM       082XX S COLES AVE   \n",
       "1        03/01/2003 12:00:00 AM         004XX W 42ND PL   \n",
       "2        06/20/2004 11:00:00 AM     025XX N KIMBALL AVE   \n",
       "3        12/30/2004 08:00:00 PM      045XX W MONTANA ST   \n",
       "4        05/01/2003 01:00:00 AM      111XX S NORMAL AVE   \n",
       "...                         ...                     ...   \n",
       "1999995  04/26/2013 10:25:00 AM  0000X W CTA 95TH ST LN   \n",
       "1999996  04/26/2013 12:07:00 PM     071XX S EMERALD AVE   \n",
       "1999997  04/26/2013 06:15:00 AM   131XX S BALTIMORE AVE   \n",
       "1999998  04/26/2013 02:00:00 AM    005XX N RIDGEWAY AVE   \n",
       "1999999  04/26/2013 05:10:00 AM    009XX W LAWRENCE AVE   \n",
       "\n",
       "                       Primary Type               Location Description  \\\n",
       "0                             THEFT                          RESIDENCE   \n",
       "1                     OTHER OFFENSE                          RESIDENCE   \n",
       "2        OFFENSE INVOLVING CHILDREN                          RESIDENCE   \n",
       "3                             THEFT                              OTHER   \n",
       "4                             THEFT                          RESIDENCE   \n",
       "...                             ...                                ...   \n",
       "1999995          DECEPTIVE PRACTICE                       CTA PLATFORM   \n",
       "1999996                   NARCOTICS                              ALLEY   \n",
       "1999997                   NARCOTICS                          RESIDENCE   \n",
       "1999998                       THEFT                             STREET   \n",
       "1999999                       THEFT  CHURCH/SYNAGOGUE/PLACE OF WORSHIP   \n",
       "\n",
       "         Arrest  Domestic  Beat  Community Area  Year              Updated On  \\\n",
       "0         False     False   424            46.0  2004  08/17/2015 03:03:40 PM   \n",
       "1         False      True   935            61.0  2003  04/15/2016 08:55:02 AM   \n",
       "2         False     False  1413            22.0  2004  08/17/2015 03:03:40 PM   \n",
       "3         False     False  2521            20.0  2004  08/17/2015 03:03:40 PM   \n",
       "4         False     False  2233            49.0  2003  04/15/2016 08:55:02 AM   \n",
       "...         ...       ...   ...             ...   ...                     ...   \n",
       "1999995   False     False   634            49.0  2013  02/04/2016 06:33:39 AM   \n",
       "1999996    True     False   732            68.0  2013  02/04/2016 06:33:39 AM   \n",
       "1999997    True     False   433            55.0  2013  02/04/2016 06:33:39 AM   \n",
       "1999998   False     False  1122            23.0  2013  02/04/2016 06:33:39 AM   \n",
       "1999999   False     False  1914             3.0  2013  02/04/2016 06:33:39 AM   \n",
       "\n",
       "          Latitude  Longitude  \n",
       "0              NaN        NaN  \n",
       "1        41.817229 -87.637328  \n",
       "2              NaN        NaN  \n",
       "3              NaN        NaN  \n",
       "4        41.691785 -87.635116  \n",
       "...            ...        ...  \n",
       "1999995  41.722768 -87.624410  \n",
       "1999996  41.764268 -87.643003  \n",
       "1999997  41.656764 -87.547139  \n",
       "1999998  41.890782 -87.719842  \n",
       "1999999  41.969107 -87.653552  \n",
       "\n",
       "[2000000 rows x 12 columns]"
      ]
     },
     "execution_count": 4,
=======
       "      <td>41.691785</td>\n",
       "      <td>-87.635116</td>\n",
       "      <td>(41.691784636, -87.635115968)</td>\n",
       "    </tr>\n",
       "  </tbody>\n",
       "</table>\n",
       "</div>"
      ],
      "text/plain": [
       "                     Date                Primary Type   Latitude  Longitude  \\\n",
       "0  01/01/2004 12:01:00 AM                       THEFT        NaN        NaN   \n",
       "1  03/01/2003 12:00:00 AM               OTHER OFFENSE  41.817229 -87.637328   \n",
       "2  06/20/2004 11:00:00 AM  OFFENSE INVOLVING CHILDREN        NaN        NaN   \n",
       "3  12/30/2004 08:00:00 PM                       THEFT        NaN        NaN   \n",
       "4  05/01/2003 01:00:00 AM                       THEFT  41.691785 -87.635116   \n",
       "\n",
       "                        Location  \n",
       "0                            NaN  \n",
       "1  (41.817229156, -87.637328162)  \n",
       "2                            NaN  \n",
       "3                            NaN  \n",
       "4  (41.691784636, -87.635115968)  "
      ]
     },
     "execution_count": 6,
>>>>>>> 441da7c8810b3fdb87b8491acd025808b27541d6
     "metadata": {},
     "output_type": "execute_result"
    }
   ],
   "source": [
<<<<<<< HEAD
    "result = result.drop([result.columns[0],'ID','District','Case Number','IUCR',\n",
    "             'Description','FBI Code','X Coordinate', 'Y Coordinate', 'Ward', 'Location'], axis = 1)\n",
    "result"
=======
    "result.head()"
>>>>>>> 441da7c8810b3fdb87b8491acd025808b27541d6
   ]
  },
  {
   "cell_type": "code",
<<<<<<< HEAD
   "execution_count": 5,
=======
   "execution_count": 7,
   "metadata": {},
   "outputs": [
    {
     "data": {
      "text/plain": [
       "Date                0\n",
       "Primary Type        0\n",
       "Latitude        33841\n",
       "Longitude       33841\n",
       "Location        33841\n",
       "dtype: int64"
      ]
     },
     "execution_count": 7,
     "metadata": {},
     "output_type": "execute_result"
    }
   ],
   "source": [
    "result.isnull().sum()"
   ]
  },
  {
   "cell_type": "code",
   "execution_count": 8,
>>>>>>> 441da7c8810b3fdb87b8491acd025808b27541d6
   "metadata": {},
   "outputs": [
    {
     "name": "stderr",
     "output_type": "stream",
     "text": [
      "/tmp/ipykernel_3235/3517475896.py:3: SettingWithCopyWarning: \n",
      "A value is trying to be set on a copy of a slice from a DataFrame.\n",
      "Try using .loc[row_indexer,col_indexer] = value instead\n",
      "\n",
      "See the caveats in the documentation: https://pandas.pydata.org/pandas-docs/stable/user_guide/indexing.html#returning-a-view-versus-a-copy\n",
      "  result['Date'] = pd.to_datetime(result['Date'], format='%m/%d/%Y %I:%M:%S %p').dt.strftime('%d/%m/%Y %H:%M:%S')\n"
     ]
    },
    {
     "data": {
      "text/html": [
       "<div>\n",
       "<style scoped>\n",
       "    .dataframe tbody tr th:only-of-type {\n",
       "        vertical-align: middle;\n",
       "    }\n",
       "\n",
       "    .dataframe tbody tr th {\n",
       "        vertical-align: top;\n",
       "    }\n",
       "\n",
       "    .dataframe thead th {\n",
       "        text-align: right;\n",
       "    }\n",
       "</style>\n",
       "<table border=\"1\" class=\"dataframe\">\n",
       "  <thead>\n",
       "    <tr style=\"text-align: right;\">\n",
       "      <th></th>\n",
       "      <th>Date</th>\n",
       "      <th>Primary Type</th>\n",
<<<<<<< HEAD
       "      <th>Location Description</th>\n",
       "      <th>Arrest</th>\n",
       "      <th>Domestic</th>\n",
       "      <th>Beat</th>\n",
       "      <th>Community Area</th>\n",
       "      <th>Year</th>\n",
       "      <th>Updated On</th>\n",
       "      <th>Latitude</th>\n",
       "      <th>Longitude</th>\n",
=======
       "      <th>Latitude</th>\n",
       "      <th>Longitude</th>\n",
       "      <th>Location</th>\n",
>>>>>>> 441da7c8810b3fdb87b8491acd025808b27541d6
       "    </tr>\n",
       "  </thead>\n",
       "  <tbody>\n",
       "    <tr>\n",
       "      <th>1</th>\n",
       "      <td>01/03/2003 00:00:00</td>\n",
       "      <td>OTHER OFFENSE</td>\n",
<<<<<<< HEAD
       "      <td>RESIDENCE</td>\n",
       "      <td>False</td>\n",
       "      <td>True</td>\n",
       "      <td>935</td>\n",
       "      <td>61.0</td>\n",
       "      <td>2003</td>\n",
       "      <td>04/15/2016 08:55:02 AM</td>\n",
       "      <td>41.817229</td>\n",
       "      <td>-87.637328</td>\n",
=======
       "      <td>41.817229</td>\n",
       "      <td>-87.637328</td>\n",
       "      <td>(41.817229156, -87.637328162)</td>\n",
>>>>>>> 441da7c8810b3fdb87b8491acd025808b27541d6
       "    </tr>\n",
       "    <tr>\n",
       "      <th>4</th>\n",
       "      <td>01/05/2003 01:00:00</td>\n",
       "      <td>THEFT</td>\n",
<<<<<<< HEAD
       "      <td>RESIDENCE</td>\n",
       "      <td>False</td>\n",
       "      <td>False</td>\n",
       "      <td>2233</td>\n",
       "      <td>49.0</td>\n",
       "      <td>2003</td>\n",
       "      <td>04/15/2016 08:55:02 AM</td>\n",
       "      <td>41.691785</td>\n",
       "      <td>-87.635116</td>\n",
=======
       "      <td>41.691785</td>\n",
       "      <td>-87.635116</td>\n",
       "      <td>(41.691784636, -87.635115968)</td>\n",
>>>>>>> 441da7c8810b3fdb87b8491acd025808b27541d6
       "    </tr>\n",
       "    <tr>\n",
       "      <th>6</th>\n",
       "      <td>01/01/2001 11:00:00</td>\n",
       "      <td>CRIM SEXUAL ASSAULT</td>\n",
<<<<<<< HEAD
       "      <td>RESIDENCE</td>\n",
       "      <td>True</td>\n",
       "      <td>True</td>\n",
       "      <td>531</td>\n",
       "      <td>50.0</td>\n",
       "      <td>2001</td>\n",
       "      <td>08/29/2006 03:46:28 AM</td>\n",
       "      <td>41.687020</td>\n",
       "      <td>-87.608445</td>\n",
=======
       "      <td>41.687020</td>\n",
       "      <td>-87.608445</td>\n",
       "      <td>(41.687020002, -87.60844523)</td>\n",
>>>>>>> 441da7c8810b3fdb87b8491acd025808b27541d6
       "    </tr>\n",
       "    <tr>\n",
       "      <th>7</th>\n",
       "      <td>15/03/2003 00:00:00</td>\n",
       "      <td>OTHER OFFENSE</td>\n",
<<<<<<< HEAD
       "      <td>RESIDENCE PORCH/HALLWAY</td>\n",
       "      <td>False</td>\n",
       "      <td>False</td>\n",
       "      <td>2222</td>\n",
       "      <td>73.0</td>\n",
       "      <td>2003</td>\n",
       "      <td>04/15/2016 08:55:02 AM</td>\n",
       "      <td>41.729712</td>\n",
       "      <td>-87.653159</td>\n",
=======
       "      <td>41.729712</td>\n",
       "      <td>-87.653159</td>\n",
       "      <td>(41.729712374, -87.653158513)</td>\n",
>>>>>>> 441da7c8810b3fdb87b8491acd025808b27541d6
       "    </tr>\n",
       "    <tr>\n",
       "      <th>9</th>\n",
       "      <td>01/01/2003 00:00:00</td>\n",
       "      <td>THEFT</td>\n",
<<<<<<< HEAD
       "      <td>RESIDENCE</td>\n",
       "      <td>False</td>\n",
       "      <td>False</td>\n",
       "      <td>1134</td>\n",
       "      <td>29.0</td>\n",
       "      <td>2003</td>\n",
       "      <td>04/15/2016 08:55:02 AM</td>\n",
       "      <td>41.869772</td>\n",
       "      <td>-87.708180</td>\n",
       "    </tr>\n",
       "    <tr>\n",
       "      <th>...</th>\n",
       "      <td>...</td>\n",
       "      <td>...</td>\n",
       "      <td>...</td>\n",
       "      <td>...</td>\n",
       "      <td>...</td>\n",
       "      <td>...</td>\n",
       "      <td>...</td>\n",
       "      <td>...</td>\n",
       "      <td>...</td>\n",
       "      <td>...</td>\n",
       "      <td>...</td>\n",
       "      <td>...</td>\n",
       "    </tr>\n",
       "    <tr>\n",
       "      <th>1999995</th>\n",
       "      <td>26/04/2013 10:25:00</td>\n",
       "      <td>0000X W CTA 95TH ST LN</td>\n",
       "      <td>DECEPTIVE PRACTICE</td>\n",
       "      <td>CTA PLATFORM</td>\n",
       "      <td>False</td>\n",
       "      <td>False</td>\n",
       "      <td>634</td>\n",
       "      <td>49.0</td>\n",
       "      <td>2013</td>\n",
       "      <td>02/04/2016 06:33:39 AM</td>\n",
       "      <td>41.722768</td>\n",
       "      <td>-87.624410</td>\n",
       "    </tr>\n",
       "    <tr>\n",
       "      <th>1999996</th>\n",
       "      <td>26/04/2013 12:07:00</td>\n",
       "      <td>071XX S EMERALD AVE</td>\n",
       "      <td>NARCOTICS</td>\n",
       "      <td>ALLEY</td>\n",
       "      <td>True</td>\n",
       "      <td>False</td>\n",
       "      <td>732</td>\n",
       "      <td>68.0</td>\n",
       "      <td>2013</td>\n",
       "      <td>02/04/2016 06:33:39 AM</td>\n",
       "      <td>41.764268</td>\n",
       "      <td>-87.643003</td>\n",
       "    </tr>\n",
       "    <tr>\n",
       "      <th>1999997</th>\n",
       "      <td>26/04/2013 06:15:00</td>\n",
       "      <td>131XX S BALTIMORE AVE</td>\n",
       "      <td>NARCOTICS</td>\n",
       "      <td>RESIDENCE</td>\n",
       "      <td>True</td>\n",
       "      <td>False</td>\n",
       "      <td>433</td>\n",
       "      <td>55.0</td>\n",
       "      <td>2013</td>\n",
       "      <td>02/04/2016 06:33:39 AM</td>\n",
       "      <td>41.656764</td>\n",
       "      <td>-87.547139</td>\n",
       "    </tr>\n",
       "    <tr>\n",
       "      <th>1999998</th>\n",
       "      <td>26/04/2013 02:00:00</td>\n",
       "      <td>005XX N RIDGEWAY AVE</td>\n",
       "      <td>THEFT</td>\n",
       "      <td>STREET</td>\n",
       "      <td>False</td>\n",
       "      <td>False</td>\n",
       "      <td>1122</td>\n",
       "      <td>23.0</td>\n",
       "      <td>2013</td>\n",
       "      <td>02/04/2016 06:33:39 AM</td>\n",
       "      <td>41.890782</td>\n",
       "      <td>-87.719842</td>\n",
       "    </tr>\n",
       "    <tr>\n",
       "      <th>1999999</th>\n",
       "      <td>26/04/2013 05:10:00</td>\n",
       "      <td>009XX W LAWRENCE AVE</td>\n",
       "      <td>THEFT</td>\n",
       "      <td>CHURCH/SYNAGOGUE/PLACE OF WORSHIP</td>\n",
       "      <td>False</td>\n",
       "      <td>False</td>\n",
       "      <td>1914</td>\n",
       "      <td>3.0</td>\n",
       "      <td>2013</td>\n",
       "      <td>02/04/2016 06:33:39 AM</td>\n",
       "      <td>41.969107</td>\n",
       "      <td>-87.653552</td>\n",
       "    </tr>\n",
       "  </tbody>\n",
       "</table>\n",
       "<p>1478451 rows × 12 columns</p>\n",
       "</div>"
      ],
      "text/plain": [
       "                        Date                    Block         Primary Type  \\\n",
       "1        01/03/2003 00:00:00          004XX W 42ND PL        OTHER OFFENSE   \n",
       "4        01/05/2003 01:00:00       111XX S NORMAL AVE                THEFT   \n",
       "6        01/01/2001 11:00:00  114XX S ST LAWRENCE AVE  CRIM SEXUAL ASSAULT   \n",
       "7        15/03/2003 00:00:00       090XX S RACINE AVE        OTHER OFFENSE   \n",
       "9        01/01/2003 00:00:00    009XX S SPAULDING AVE                THEFT   \n",
       "...                      ...                      ...                  ...   \n",
       "1999995  26/04/2013 10:25:00   0000X W CTA 95TH ST LN   DECEPTIVE PRACTICE   \n",
       "1999996  26/04/2013 12:07:00      071XX S EMERALD AVE            NARCOTICS   \n",
       "1999997  26/04/2013 06:15:00    131XX S BALTIMORE AVE            NARCOTICS   \n",
       "1999998  26/04/2013 02:00:00     005XX N RIDGEWAY AVE                THEFT   \n",
       "1999999  26/04/2013 05:10:00     009XX W LAWRENCE AVE                THEFT   \n",
       "\n",
       "                      Location Description  Arrest  Domestic  Beat  \\\n",
       "1                                RESIDENCE   False      True   935   \n",
       "4                                RESIDENCE   False     False  2233   \n",
       "6                                RESIDENCE    True      True   531   \n",
       "7                  RESIDENCE PORCH/HALLWAY   False     False  2222   \n",
       "9                                RESIDENCE   False     False  1134   \n",
       "...                                    ...     ...       ...   ...   \n",
       "1999995                       CTA PLATFORM   False     False   634   \n",
       "1999996                              ALLEY    True     False   732   \n",
       "1999997                          RESIDENCE    True     False   433   \n",
       "1999998                             STREET   False     False  1122   \n",
       "1999999  CHURCH/SYNAGOGUE/PLACE OF WORSHIP   False     False  1914   \n",
       "\n",
       "         Community Area  Year              Updated On   Latitude  Longitude  \n",
       "1                  61.0  2003  04/15/2016 08:55:02 AM  41.817229 -87.637328  \n",
       "4                  49.0  2003  04/15/2016 08:55:02 AM  41.691785 -87.635116  \n",
       "6                  50.0  2001  08/29/2006 03:46:28 AM  41.687020 -87.608445  \n",
       "7                  73.0  2003  04/15/2016 08:55:02 AM  41.729712 -87.653159  \n",
       "9                  29.0  2003  04/15/2016 08:55:02 AM  41.869772 -87.708180  \n",
       "...                 ...   ...                     ...        ...        ...  \n",
       "1999995            49.0  2013  02/04/2016 06:33:39 AM  41.722768 -87.624410  \n",
       "1999996            68.0  2013  02/04/2016 06:33:39 AM  41.764268 -87.643003  \n",
       "1999997            55.0  2013  02/04/2016 06:33:39 AM  41.656764 -87.547139  \n",
       "1999998            23.0  2013  02/04/2016 06:33:39 AM  41.890782 -87.719842  \n",
       "1999999             3.0  2013  02/04/2016 06:33:39 AM  41.969107 -87.653552  \n",
       "\n",
       "[1478451 rows x 12 columns]"
      ]
     },
     "execution_count": 5,
=======
       "      <td>41.869772</td>\n",
       "      <td>-87.708180</td>\n",
       "      <td>(41.869772159, -87.708180162)</td>\n",
       "    </tr>\n",
       "  </tbody>\n",
       "</table>\n",
       "</div>"
      ],
      "text/plain": [
       "                  Date         Primary Type   Latitude  Longitude  \\\n",
       "1  01/03/2003 00:00:00        OTHER OFFENSE  41.817229 -87.637328   \n",
       "4  01/05/2003 01:00:00                THEFT  41.691785 -87.635116   \n",
       "6  01/01/2001 11:00:00  CRIM SEXUAL ASSAULT  41.687020 -87.608445   \n",
       "7  15/03/2003 00:00:00        OTHER OFFENSE  41.729712 -87.653159   \n",
       "9  01/01/2003 00:00:00                THEFT  41.869772 -87.708180   \n",
       "\n",
       "                        Location  \n",
       "1  (41.817229156, -87.637328162)  \n",
       "4  (41.691784636, -87.635115968)  \n",
       "6   (41.687020002, -87.60844523)  \n",
       "7  (41.729712374, -87.653158513)  \n",
       "9  (41.869772159, -87.708180162)  "
      ]
     },
     "execution_count": 8,
>>>>>>> 441da7c8810b3fdb87b8491acd025808b27541d6
     "metadata": {},
     "output_type": "execute_result"
    }
   ],
   "source": [
    "result = result.dropna()\n",
    "from datetime import *\n",
    "result['Date'] = pd.to_datetime(result['Date'], format='%m/%d/%Y %I:%M:%S %p').dt.strftime('%d/%m/%Y %H:%M:%S')\n",
    "result.head()"
   ]
  },
  {
   "cell_type": "code",
<<<<<<< HEAD
   "execution_count": 6,
   "metadata": {},
   "outputs": [],
   "source": [
    "result.to_csv('python_preprocess.csv')"
   ]
  },
  {
   "cell_type": "code",
   "execution_count": 7,
   "metadata": {},
   "outputs": [],
=======
   "execution_count": 9,
   "metadata": {},
   "outputs": [
    {
     "data": {
      "text/plain": [
       "Date            0\n",
       "Primary Type    0\n",
       "Latitude        0\n",
       "Longitude       0\n",
       "Location        0\n",
       "dtype: int64"
      ]
     },
     "execution_count": 9,
     "metadata": {},
     "output_type": "execute_result"
    }
   ],
>>>>>>> 441da7c8810b3fdb87b8491acd025808b27541d6
   "source": [
    "result.isnull().sum()"
   ]
  },
  {
   "cell_type": "code",
<<<<<<< HEAD
   "execution_count": 8,
   "metadata": {},
   "outputs": [],
=======
   "execution_count": 10,
   "metadata": {},
   "outputs": [
    {
     "data": {
      "text/plain": [
       "39.84175629936699"
      ]
     },
     "execution_count": 10,
     "metadata": {},
     "output_type": "execute_result"
    }
   ],
>>>>>>> 441da7c8810b3fdb87b8491acd025808b27541d6
   "source": [
    "(result[\"Latitude\"].values.sum())/(len(result[\"Latitude\"]))-2"
   ]
  },
  {
   "cell_type": "code",
<<<<<<< HEAD
   "execution_count": 9,
=======
   "execution_count": 11,
>>>>>>> 441da7c8810b3fdb87b8491acd025808b27541d6
   "metadata": {},
   "outputs": [],
   "source": [
    "avg = (result[\"Latitude\"].values.sum())/(len(result[\"Latitude\"]))\n",
    "outliers = []\n",
    "counter = 0\n",
    "for row in result[\"Latitude\"]:\n",
    "    counter += 1\n",
    "    if row >= avg-2 and row <= avg+2:\n",
    "        continue\n",
    "    else:\n",
    "        outliers.append(counter)\n"
   ]
  },
  {
   "cell_type": "code",
   "execution_count": 12,
   "metadata": {},
   "outputs": [],
   "source": [
    "avg = (result[\"Latitude\"].values.sum())/(len(result[\"Latitude\"]))\n",
    "final_res = result[(result['Latitude']>=avg-2 ) & (result['Latitude']<=avg+2)]"
   ]
  },
  {
   "cell_type": "code",
<<<<<<< HEAD
   "execution_count": 10,
   "metadata": {},
   "outputs": [],
=======
   "execution_count": 13,
   "metadata": {},
   "outputs": [
    {
     "data": {
      "text/plain": [
       "float"
      ]
     },
     "execution_count": 13,
     "metadata": {},
     "output_type": "execute_result"
    }
   ],
>>>>>>> 441da7c8810b3fdb87b8491acd025808b27541d6
   "source": [
    "type(final_res[\"Longitude\"].tolist()[0])"
   ]
  },
  {
   "cell_type": "code",
<<<<<<< HEAD
   "execution_count": 11,
=======
   "execution_count": 14,
>>>>>>> 441da7c8810b3fdb87b8491acd025808b27541d6
   "metadata": {},
   "outputs": [],
   "source": [
    "final_res.to_csv('python_preprocess.csv')"
   ]
  },
  {
   "cell_type": "code",
<<<<<<< HEAD
   "execution_count": 12,
   "metadata": {},
   "outputs": [],
=======
   "execution_count": 15,
   "metadata": {},
   "outputs": [],
   "source": [
    "from sklearn.cluster import KMeans\n",
    "\n",
    "# function returns WSS score for k values from 1 to kmax\n",
    "def calculate_WSS(points, kmax):\n",
    "  sse = []\n",
    "  for k in range(1, kmax+1):\n",
    "    kmeans = KMeans(n_clusters = k).fit(points)\n",
    "    centroids = kmeans.cluster_centers_\n",
    "    pred_clusters = kmeans.predict(points)\n",
    "    curr_sse = 0\n",
    "    \n",
    "    # calculate square of Euclidean distance of each point from its cluster center and add to current WSS\n",
    "    for i in range(len(points)):\n",
    "      curr_center = centroids[pred_clusters[i]]\n",
    "      curr_sse += (points[i, 0] - curr_center[0]) ** 2 + (points[i, 1] - curr_center[1]) ** 2\n",
    "      \n",
    "    sse.append(curr_sse)\n",
    "  return sse"
   ]
  },
  {
   "cell_type": "code",
   "execution_count": 16,
   "metadata": {},
   "outputs": [
    {
     "data": {
      "image/png": "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",
      "text/plain": [
       "<Figure size 432x288 with 1 Axes>"
      ]
     },
     "metadata": {
      "needs_background": "light"
     },
     "output_type": "display_data"
    }
   ],
>>>>>>> 441da7c8810b3fdb87b8491acd025808b27541d6
   "source": [
    "rows = result[\"Location\"]\n",
    "\n",
    "allcoord = []\n",
    "X1 = []\n",
    "X2 = []\n",
    "for line in rows[:100000]:\n",
    "    line = ''.join(c for c in line if c not in '()')\n",
    "    coords = line.split(',')\n",
    "    x_coord = float(coords[1])\n",
    "    y_coord = float(coords[0])\n",
    "    X1.append(x_coord)\n",
    "    X2.append(y_coord)\n",
    "    new_coord = [x_coord, y_coord]\n",
    "    allcoord.append(new_coord)\n",
    "\n",
    "plt.scatter(X1,X2)\n",
    "plt.show()"
   ]
  },
  {
   "cell_type": "code",
<<<<<<< HEAD
   "execution_count": 13,
   "metadata": {},
   "outputs": [],
=======
   "execution_count": 17,
   "metadata": {},
   "outputs": [
    {
     "data": {
      "image/png": "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",
      "text/plain": [
       "<Figure size 432x288 with 1 Axes>"
      ]
     },
     "metadata": {
      "needs_background": "light"
     },
     "output_type": "display_data"
    }
   ],
>>>>>>> 441da7c8810b3fdb87b8491acd025808b27541d6
   "source": [
    "rows = final_res[\"Location\"]\n",
    "\n",
    "allcoord = []\n",
    "X1 = []\n",
    "X2 = []\n",
    "for line in rows[:100000]:\n",
    "    line = ''.join(c for c in line if c not in '()')\n",
    "    coords = line.split(',')\n",
    "    x_coord = float(coords[1])\n",
    "    y_coord = float(coords[0])\n",
    "    X1.append(x_coord)\n",
    "    X2.append(y_coord)\n",
    "    new_coord = [x_coord, y_coord]\n",
    "    allcoord.append(new_coord)\n",
    "\n",
    "plt.scatter(X1,X2)\n",
    "plt.show()"
   ]
  },
  {
   "cell_type": "code",
<<<<<<< HEAD
   "execution_count": 14,
   "metadata": {},
   "outputs": [],
=======
   "execution_count": 18,
   "metadata": {},
   "outputs": [
    {
     "data": {
      "text/html": [
       "<div>\n",
       "<style scoped>\n",
       "    .dataframe tbody tr th:only-of-type {\n",
       "        vertical-align: middle;\n",
       "    }\n",
       "\n",
       "    .dataframe tbody tr th {\n",
       "        vertical-align: top;\n",
       "    }\n",
       "\n",
       "    .dataframe thead th {\n",
       "        text-align: right;\n",
       "    }\n",
       "</style>\n",
       "<table border=\"1\" class=\"dataframe\">\n",
       "  <thead>\n",
       "    <tr style=\"text-align: right;\">\n",
       "      <th></th>\n",
       "      <th>0</th>\n",
       "      <th>1</th>\n",
       "    </tr>\n",
       "  </thead>\n",
       "  <tbody>\n",
       "    <tr>\n",
       "      <th>0</th>\n",
       "      <td>-87.637328</td>\n",
       "      <td>41.817229</td>\n",
       "    </tr>\n",
       "    <tr>\n",
       "      <th>1</th>\n",
       "      <td>-87.635116</td>\n",
       "      <td>41.691785</td>\n",
       "    </tr>\n",
       "    <tr>\n",
       "      <th>2</th>\n",
       "      <td>-87.608445</td>\n",
       "      <td>41.687020</td>\n",
       "    </tr>\n",
       "    <tr>\n",
       "      <th>3</th>\n",
       "      <td>-87.653159</td>\n",
       "      <td>41.729712</td>\n",
       "    </tr>\n",
       "    <tr>\n",
       "      <th>4</th>\n",
       "      <td>-87.708180</td>\n",
       "      <td>41.869772</td>\n",
       "    </tr>\n",
       "    <tr>\n",
       "      <th>...</th>\n",
       "      <td>...</td>\n",
       "      <td>...</td>\n",
       "    </tr>\n",
       "    <tr>\n",
       "      <th>99995</th>\n",
       "      <td>-87.704434</td>\n",
       "      <td>42.019122</td>\n",
       "    </tr>\n",
       "    <tr>\n",
       "      <th>99996</th>\n",
       "      <td>-87.700395</td>\n",
       "      <td>41.881143</td>\n",
       "    </tr>\n",
       "    <tr>\n",
       "      <th>99997</th>\n",
       "      <td>-87.736352</td>\n",
       "      <td>41.912768</td>\n",
       "    </tr>\n",
       "    <tr>\n",
       "      <th>99998</th>\n",
       "      <td>-87.601116</td>\n",
       "      <td>41.776059</td>\n",
       "    </tr>\n",
       "    <tr>\n",
       "      <th>99999</th>\n",
       "      <td>-87.725671</td>\n",
       "      <td>41.885349</td>\n",
       "    </tr>\n",
       "  </tbody>\n",
       "</table>\n",
       "<p>100000 rows × 2 columns</p>\n",
       "</div>"
      ],
      "text/plain": [
       "               0          1\n",
       "0     -87.637328  41.817229\n",
       "1     -87.635116  41.691785\n",
       "2     -87.608445  41.687020\n",
       "3     -87.653159  41.729712\n",
       "4     -87.708180  41.869772\n",
       "...          ...        ...\n",
       "99995 -87.704434  42.019122\n",
       "99996 -87.700395  41.881143\n",
       "99997 -87.736352  41.912768\n",
       "99998 -87.601116  41.776059\n",
       "99999 -87.725671  41.885349\n",
       "\n",
       "[100000 rows x 2 columns]"
      ]
     },
     "execution_count": 18,
     "metadata": {},
     "output_type": "execute_result"
    }
   ],
>>>>>>> 441da7c8810b3fdb87b8491acd025808b27541d6
   "source": [
    "data_frame = pd.DataFrame(allcoord)\n",
    "data_frame"
   ]
  },
  {
   "cell_type": "code",
   "execution_count": 19,
   "metadata": {},
   "outputs": [
    {
     "data": {
      "image/png": "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",
      "text/plain": [
       "<Figure size 432x288 with 1 Axes>"
      ]
     },
     "metadata": {
      "needs_background": "light"
     },
     "output_type": "display_data"
    }
   ],
   "source": [
    "Sum_of_squared_distances = []\n",
    "K = range(1,50)\n",
    "for num_clusters in K :\n",
    " kmeans = KMeans(n_clusters=num_clusters)\n",
    " kmeans.fit(data_frame)\n",
    " Sum_of_squared_distances.append(kmeans.inertia_)\n",
    "plt.plot(K,Sum_of_squared_distances,'bx-')\n",
    "plt.xlabel('Values of K') \n",
    "plt.ylabel('Sum of squared distances/Inertia') \n",
    "plt.title('Elbow Method For Optimal k')\n",
    "plt.show()"
   ]
  },
  {
   "cell_type": "code",
   "execution_count": 20,
   "metadata": {},
   "outputs": [],
   "source": [
    "# df.columns"
   ]
  },
  {
   "cell_type": "code",
   "execution_count": 21,
   "metadata": {},
   "outputs": [],
   "source": [
    "# df.describe()"
   ]
  },
  {
   "cell_type": "code",
   "execution_count": 22,
   "metadata": {},
   "outputs": [],
   "source": [
    "# df.isnull().sum()"
   ]
  },
  {
   "cell_type": "code",
   "execution_count": 23,
   "metadata": {},
   "outputs": [],
   "source": [
    "# df = df.drop(['Unnamed: 0', 'Domestic','Beat','District','Case Number','IUCR','Description','Community Area','FBI Code','X Coordinate', 'Y Coordinate', 'Updated On'], axis = 1)\n",
    "# df = df.dropna()"
   ]
  },
  {
   "cell_type": "code",
   "execution_count": 24,
   "metadata": {},
   "outputs": [],
   "source": [
    "# d=df.groupby('Primary Type').sum()[\"Arrest\"]\n",
    "# d"
   ]
  },
  {
   "cell_type": "code",
   "execution_count": 25,
   "metadata": {},
   "outputs": [],
   "source": [
    "# plt.style.use(plt.style.available[9])\n",
    "# plt.figure(figsize=(8,8))\n",
    "# plt.pie(\n",
    "#     df.groupby('Primary Type').sum()[\"Arrest\"],\n",
    "#     labels=df.groupby(\"Primary Type\").sum().index,\n",
    "#     radius=1, \n",
    "#     autopct='%0.1f%%', )\n",
    "#     #explode=[0,0,0,0,0,0,0,0,0,0,0,0,0,0,0,0,0,0,0,0,0,0,0,0,0,0,0,0,0])\n",
    "# plt.title('test', fontdict={'fontsize': 16})\n",
    "# plt.show()"
   ]
  },
  {
   "cell_type": "code",
   "execution_count": 26,
   "metadata": {},
   "outputs": [],
   "source": [
    "# df.loc[df['Year'] == 2002]"
   ]
  }
 ],
 "metadata": {
  "interpreter": {
   "hash": "cd24510e72a5417feea7cb81402ffb6b313add9a2ff74c45dc5472ac7fbe8a4b"
  },
  "kernelspec": {
   "display_name": "Python 3.9.1 64-bit",
   "language": "python",
   "name": "python3"
  },
  "language_info": {
   "codemirror_mode": {
    "name": "ipython",
    "version": 3
   },
   "file_extension": ".py",
   "mimetype": "text/x-python",
   "name": "python",
   "nbconvert_exporter": "python",
   "pygments_lexer": "ipython3",
   "version": "3.8.10"
  },
  "orig_nbformat": 4
 },
 "nbformat": 4,
 "nbformat_minor": 2
}
